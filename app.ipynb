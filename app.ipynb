{
 "cells": [
  {
   "cell_type": "code",
   "execution_count": 1,
   "metadata": {},
   "outputs": [
    {
     "name": "stdout",
     "output_type": "stream",
     "text": [
      " * Serving Flask app '__main__'\n",
      " * Debug mode: on\n"
     ]
    },
    {
     "name": "stderr",
     "output_type": "stream",
     "text": [
      "\u001b[31m\u001b[1mWARNING: This is a development server. Do not use it in a production deployment. Use a production WSGI server instead.\u001b[0m\n",
      " * Running on http://127.0.0.1:5000\n",
      "\u001b[33mPress CTRL+C to quit\u001b[0m\n",
      "127.0.0.1 - - [12/Nov/2024 14:35:55] \"\u001b[32mGET / HTTP/1.1\u001b[0m\" 302 -\n",
      "127.0.0.1 - - [12/Nov/2024 14:35:55] \"GET /login HTTP/1.1\" 200 -\n",
      "127.0.0.1 - - [12/Nov/2024 14:35:55] \"GET /static/images/교통대UI.png HTTP/1.1\" 200 -\n",
      "127.0.0.1 - - [12/Nov/2024 14:35:55] \"\u001b[36mGET /static/css/style.css HTTP/1.1\u001b[0m\" 304 -\n",
      "127.0.0.1 - - [12/Nov/2024 14:35:55] \"GET /static/images/배경화면2.jpeg HTTP/1.1\" 200 -\n",
      "127.0.0.1 - - [12/Nov/2024 14:35:55] \"\u001b[33mGET /favicon.ico HTTP/1.1\u001b[0m\" 404 -\n",
      "127.0.0.1 - - [12/Nov/2024 14:36:00] \"POST /login HTTP/1.1\" 200 -\n"
     ]
    },
    {
     "name": "stdout",
     "output_type": "stream",
     "text": [
      "MySQL 데이터베이스에 성공적으로 연결되었습니다.\n"
     ]
    },
    {
     "name": "stderr",
     "output_type": "stream",
     "text": [
      "127.0.0.1 - - [12/Nov/2024 14:36:02] \"GET /login HTTP/1.1\" 200 -\n",
      "127.0.0.1 - - [12/Nov/2024 14:36:04] \"\u001b[32mPOST /login HTTP/1.1\u001b[0m\" 302 -\n"
     ]
    },
    {
     "name": "stdout",
     "output_type": "stream",
     "text": [
      "MySQL 데이터베이스에 성공적으로 연결되었습니다.\n",
      "MySQL 데이터베이스에 성공적으로 연결되었습니다.\n"
     ]
    },
    {
     "name": "stderr",
     "output_type": "stream",
     "text": [
      "/var/folders/df/c6ldw2vd4l1ffh2_6n27_xwr0000gn/T/ipykernel_72886/3335877604.py:35: UserWarning: pandas only supports SQLAlchemy connectable (engine/connection) or database string URI or sqlite3 DBAPI2 connection. Other DBAPI2 objects are not tested. Please consider using SQLAlchemy.\n",
      "  user_books = pd.read_sql(query, connection)\n",
      "127.0.0.1 - - [12/Nov/2024 14:36:05] \"GET /recommend HTTP/1.1\" 200 -\n",
      "127.0.0.1 - - [12/Nov/2024 14:36:05] \"\u001b[36mGET /static/css/style.css HTTP/1.1\u001b[0m\" 304 -\n",
      "127.0.0.1 - - [12/Nov/2024 14:36:05] \"\u001b[36mGET /static/images/교통대UI.png HTTP/1.1\u001b[0m\" 304 -\n",
      "127.0.0.1 - - [12/Nov/2024 14:36:07] \"GET /book/나의%20미스터리한%20일상%20와카타케%20%25EB%2582%2598%25EB%2582%2598%25EB%25AF%25B8 HTTP/1.1\" 200 -\n",
      "127.0.0.1 - - [12/Nov/2024 14:36:07] \"\u001b[36mGET /static/css/style.css HTTP/1.1\u001b[0m\" 304 -\n",
      "127.0.0.1 - - [12/Nov/2024 14:36:07] \"\u001b[36mGET /static/images/교통대UI.png HTTP/1.1\u001b[0m\" 304 -\n"
     ]
    },
    {
     "name": "stdout",
     "output_type": "stream",
     "text": [
      "MySQL 데이터베이스에 성공적으로 연결되었습니다.\n"
     ]
    },
    {
     "name": "stderr",
     "output_type": "stream",
     "text": [
      "127.0.0.1 - - [12/Nov/2024 14:36:09] \"GET /recommend HTTP/1.1\" 200 -\n",
      "127.0.0.1 - - [12/Nov/2024 14:36:09] \"\u001b[36mGET /static/css/style.css HTTP/1.1\u001b[0m\" 304 -\n",
      "127.0.0.1 - - [12/Nov/2024 14:36:09] \"\u001b[36mGET /static/images/교통대UI.png HTTP/1.1\u001b[0m\" 304 -\n"
     ]
    }
   ],
   "source": [
    "from flask import Flask, render_template, request, redirect, url_for, session\n",
    "import mysql.connector\n",
    "import pandas as pd\n",
    "import urllib.parse\n",
    "\n",
    "app = Flask(__name__)\n",
    "app.secret_key = '1234'  # 세션을 위한 시크릿 키 설정\n",
    "\n",
    "def connect_to_database():\n",
    "    try:\n",
    "        connection = mysql.connector.connect(\n",
    "            host='localhost',\n",
    "            port=3306,\n",
    "            user='root',\n",
    "            password='min990417',  # MySQL 비밀번호\n",
    "            database='project',  # 사용하려는 데이터베이스 이름\n",
    "            ssl_disabled=False  # SSL 연결 비활성화\n",
    "        )\n",
    "        if connection.is_connected():\n",
    "            print(\"MySQL 데이터베이스에 성공적으로 연결되었습니다.\")\n",
    "        return connection\n",
    "    except mysql.connector.Error as err:\n",
    "        print(f\"연결 오류: {err}\")\n",
    "        return None\n",
    "\n",
    "# 사용자 데이터를 MySQL에서 불러오는 함수\n",
    "def load_user_data(connection, username):\n",
    "    query = f\"\"\"\n",
    "    SELECT B.book_id, L.Bookname, L.Writer\n",
    "    FROM BorrowedBooks B\n",
    "    JOIN booklist L ON B.book_id = L.EMnumber\n",
    "    JOIN Users U ON B.user_login_id = U.user_login_id\n",
    "    WHERE U.username = '{username}';\n",
    "    \"\"\"\n",
    "    user_books = pd.read_sql(query, connection)\n",
    "    user_books['자료명 저자'] = user_books['Bookname'] + ' ' + user_books['Writer']\n",
    "    return user_books\n",
    "\n",
    "# 클러스터링 데이터를 불러오는 함수\n",
    "def load_clustered_books():\n",
    "    books_clustered = pd.read_csv('Word2Vec_GRUMHA_Agglomerative(n=35)_newnewnewtest.csv')\n",
    "    return books_clustered\n",
    "\n",
    "# 추천 도서 생성 함수\n",
    "def recommend_books(connection, username, top_n=5):\n",
    "    user_books = load_user_data(connection, username)\n",
    "    books_clustered = load_clustered_books()\n",
    "\n",
    "    # 클러스터 정보를 사용해 추천 도서 생성\n",
    "    cluster_column_name = 'Cluster'\n",
    "    combined_column_name = '자료명 저자'\n",
    "    \n",
    "    # 사용자가 읽은 책 데이터에 클러스터 정보 결합\n",
    "    user_books_with_cluster = pd.merge(user_books, books_clustered, on=combined_column_name, how='left')\n",
    "    user_clusters = user_books_with_cluster[cluster_column_name].unique()\n",
    "    \n",
    "    # 같은 클러스터에 속한 다른 책들 추출\n",
    "    recommended_books = books_clustered[books_clustered[cluster_column_name].isin(user_clusters)]\n",
    "    recommended_books = recommended_books[~recommended_books[combined_column_name].isin(user_books[combined_column_name])]\n",
    "    recommended_books = recommended_books[[combined_column_name]].drop_duplicates()\n",
    "\n",
    "    # 랜덤하게 top_n권 선택\n",
    "    if len(recommended_books) > top_n:\n",
    "        recommended_books = recommended_books.sample(top_n)\n",
    "\n",
    "    # '자료명 저자'를 다시 '자료명'과 '저자'로 분리\n",
    "    recommended_books[['자료명', '저자']] = recommended_books[combined_column_name].str.rsplit(n=1, expand=True)\n",
    "    \n",
    "    return recommended_books[['자료명', '저자']].reset_index(drop=True)\n",
    "\n",
    "@app.route('/login', methods=['GET', 'POST'])\n",
    "def login():\n",
    "    if request.method == 'POST':\n",
    "        user_login_id = request.form['user_login_id']\n",
    "        password = request.form['password']\n",
    "\n",
    "        connection = connect_to_database()\n",
    "        cursor = connection.cursor(dictionary=True)\n",
    "        cursor.execute(\"SELECT * FROM Users WHERE user_login_id = %s AND password = %s\", (user_login_id, password))\n",
    "        user = cursor.fetchone()\n",
    "        connection.close()\n",
    "\n",
    "        if user:\n",
    "            session['username'] = user['username']  # 세션에 username 저장\n",
    "            return redirect(url_for('recommend'))\n",
    "        else:\n",
    "            return \"로그인 실패! ID 또는 비밀번호가 올바르지 않습니다.\"\n",
    "    return render_template('login.html')\n",
    "\n",
    "@app.route('/logout')\n",
    "def logout():\n",
    "    session.pop('username', None)\n",
    "    session.pop('recommendations', None)  # 추천 도서 목록 삭제\n",
    "    return redirect(url_for('login'))\n",
    "\n",
    "@app.route('/')\n",
    "def home():\n",
    "    return redirect(url_for('login'))\n",
    "\n",
    "@app.route('/recommend')\n",
    "def recommend():\n",
    "    if 'username' not in session:\n",
    "        return redirect(url_for('login'))\n",
    "    \n",
    "    username = session['username']\n",
    "\n",
    "    # 세션에 추천 도서가 없으면 새로 생성하여 저장\n",
    "    if 'recommendations' not in session:\n",
    "        connection = connect_to_database()\n",
    "        recommendations = recommend_books(connection, username, top_n=5)\n",
    "        session['recommendations'] = recommendations.to_dict(orient='records')\n",
    "        connection.close()\n",
    "    else:\n",
    "        # 세션에서 추천 도서 불러오기\n",
    "        recommendations = pd.DataFrame(session['recommendations'])\n",
    "\n",
    "    return render_template('recommend.html', username=username, recommendations=recommendations)\n",
    "\n",
    "@app.route('/book/<bookname_writer>')\n",
    "def book_details(bookname_writer):\n",
    "    connection = connect_to_database()\n",
    "    cursor = connection.cursor(dictionary=True)\n",
    "    \n",
    "    # URL 디코딩 적용\n",
    "    decoded_bookname_writer = urllib.parse.unquote_plus(bookname_writer)\n",
    "\n",
    "    # introduction 테이블에서 해당 책의 'Book introduction'을 가져오는 쿼리\n",
    "    query = \"SELECT `Book introduction` FROM introduction WHERE `Bookname Writer` = %s\"\n",
    "    cursor.execute(query, (decoded_bookname_writer,))\n",
    "    book_intro = cursor.fetchone()\n",
    "    \n",
    "    connection.close()\n",
    "    \n",
    "    if book_intro:\n",
    "        return render_template('book_details.html', bookname_writer=decoded_bookname_writer, book_intro=book_intro['Book introduction'])\n",
    "    else:\n",
    "        return \"책 정보를 찾을 수 없습니다.\"\n",
    "\n",
    "if __name__ == '__main__':\n",
    "    app.run(debug=True, use_reloader=False)"
   ]
  }
 ],
 "metadata": {
  "kernelspec": {
   "display_name": "dodo",
   "language": "python",
   "name": "python3"
  },
  "language_info": {
   "codemirror_mode": {
    "name": "ipython",
    "version": 3
   },
   "file_extension": ".py",
   "mimetype": "text/x-python",
   "name": "python",
   "nbconvert_exporter": "python",
   "pygments_lexer": "ipython3",
   "version": "3.8.18"
  }
 },
 "nbformat": 4,
 "nbformat_minor": 2
}
